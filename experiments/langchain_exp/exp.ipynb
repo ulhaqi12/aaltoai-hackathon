{
 "cells": [
  {
   "cell_type": "code",
   "execution_count": 9,
   "id": "6101ef1a",
   "metadata": {},
   "outputs": [
    {
     "data": {
      "text/plain": [
       "False"
      ]
     },
     "execution_count": 9,
     "metadata": {},
     "output_type": "execute_result"
    }
   ],
   "source": [
    "# Imports\n",
    "import os\n",
    "import pandas as pd\n",
    "from sqlalchemy import create_engine\n",
    "from langchain_community.utilities import SQLDatabase\n",
    "# from langchain_google_genai import ChatGoogleGenerativeAI\n",
    "from langchain_community.chat_models import ChatOllama\n",
    "\n",
    "from langchain_community.agent_toolkits import create_sql_agent\n",
    "from dotenv import load_dotenv\n",
    "load_dotenv()"
   ]
  },
  {
   "cell_type": "code",
   "execution_count": 10,
   "id": "00f89ccb",
   "metadata": {},
   "outputs": [],
   "source": [
    "df = pd.read_csv(\"data/retail_sales_dataset.csv\")\n"
   ]
  },
  {
   "cell_type": "code",
   "execution_count": 11,
   "id": "980f7053",
   "metadata": {},
   "outputs": [
    {
     "data": {
      "text/html": [
       "<div>\n",
       "<style scoped>\n",
       "    .dataframe tbody tr th:only-of-type {\n",
       "        vertical-align: middle;\n",
       "    }\n",
       "\n",
       "    .dataframe tbody tr th {\n",
       "        vertical-align: top;\n",
       "    }\n",
       "\n",
       "    .dataframe thead th {\n",
       "        text-align: right;\n",
       "    }\n",
       "</style>\n",
       "<table border=\"1\" class=\"dataframe\">\n",
       "  <thead>\n",
       "    <tr style=\"text-align: right;\">\n",
       "      <th></th>\n",
       "      <th>sale_date</th>\n",
       "      <th>product_name</th>\n",
       "      <th>category</th>\n",
       "      <th>quantity</th>\n",
       "      <th>unit_price</th>\n",
       "      <th>total_price</th>\n",
       "    </tr>\n",
       "  </thead>\n",
       "  <tbody>\n",
       "    <tr>\n",
       "      <th>0</th>\n",
       "      <td>2024-06-01</td>\n",
       "      <td>Wireless Mouse</td>\n",
       "      <td>Electronics</td>\n",
       "      <td>2</td>\n",
       "      <td>25.0</td>\n",
       "      <td>50.0</td>\n",
       "    </tr>\n",
       "    <tr>\n",
       "      <th>1</th>\n",
       "      <td>2024-06-02</td>\n",
       "      <td>Notebook</td>\n",
       "      <td>Stationery</td>\n",
       "      <td>5</td>\n",
       "      <td>3.0</td>\n",
       "      <td>15.0</td>\n",
       "    </tr>\n",
       "    <tr>\n",
       "      <th>2</th>\n",
       "      <td>2024-06-03</td>\n",
       "      <td>USB-C Cable</td>\n",
       "      <td>Electronics</td>\n",
       "      <td>3</td>\n",
       "      <td>10.0</td>\n",
       "      <td>30.0</td>\n",
       "    </tr>\n",
       "    <tr>\n",
       "      <th>3</th>\n",
       "      <td>2024-06-04</td>\n",
       "      <td>Water Bottle</td>\n",
       "      <td>Home &amp; Kitchen</td>\n",
       "      <td>1</td>\n",
       "      <td>12.0</td>\n",
       "      <td>12.0</td>\n",
       "    </tr>\n",
       "    <tr>\n",
       "      <th>4</th>\n",
       "      <td>2024-06-05</td>\n",
       "      <td>Ballpoint Pen</td>\n",
       "      <td>Stationery</td>\n",
       "      <td>10</td>\n",
       "      <td>1.0</td>\n",
       "      <td>10.0</td>\n",
       "    </tr>\n",
       "  </tbody>\n",
       "</table>\n",
       "</div>"
      ],
      "text/plain": [
       "    sale_date    product_name        category  quantity  unit_price  \\\n",
       "0  2024-06-01  Wireless Mouse     Electronics         2        25.0   \n",
       "1  2024-06-02        Notebook      Stationery         5         3.0   \n",
       "2  2024-06-03     USB-C Cable     Electronics         3        10.0   \n",
       "3  2024-06-04    Water Bottle  Home & Kitchen         1        12.0   \n",
       "4  2024-06-05   Ballpoint Pen      Stationery        10         1.0   \n",
       "\n",
       "   total_price  \n",
       "0         50.0  \n",
       "1         15.0  \n",
       "2         30.0  \n",
       "3         12.0  \n",
       "4         10.0  "
      ]
     },
     "execution_count": 11,
     "metadata": {},
     "output_type": "execute_result"
    }
   ],
   "source": [
    "df.head()"
   ]
  },
  {
   "cell_type": "code",
   "execution_count": 12,
   "id": "d7b789f7",
   "metadata": {},
   "outputs": [
    {
     "data": {
      "text/plain": [
       "8"
      ]
     },
     "execution_count": 12,
     "metadata": {},
     "output_type": "execute_result"
    }
   ],
   "source": [
    "engine = create_engine(\"sqlite:///retail_sales.db\")\n",
    "df.to_sql(\"retail_sales\", engine, index=False, if_exists='replace')"
   ]
  },
  {
   "cell_type": "code",
   "execution_count": 13,
   "id": "a89dfd3f",
   "metadata": {},
   "outputs": [],
   "source": [
    "db = SQLDatabase(engine=engine)"
   ]
  },
  {
   "cell_type": "code",
   "execution_count": 14,
   "id": "22d20368",
   "metadata": {},
   "outputs": [
    {
     "name": "stderr",
     "output_type": "stream",
     "text": [
      "/var/folders/8v/1jrbsyt10bg9rknbl2_610v80000gn/T/ipykernel_97461/2747942617.py:1: LangChainDeprecationWarning: The class `ChatOllama` was deprecated in LangChain 0.3.1 and will be removed in 1.0.0. An updated version of the class exists in the :class:`~langchain-ollama package and should be used instead. To use it run `pip install -U :class:`~langchain-ollama` and import as `from :class:`~langchain_ollama import ChatOllama``.\n",
      "  llm = ChatOllama(model=\"llama3.2:3b\")\n"
     ]
    },
    {
     "name": "stdout",
     "output_type": "stream",
     "text": [
      "Why did the AI program go to therapy?\n",
      "\n",
      "Because it was struggling to process its emotions!\n"
     ]
    }
   ],
   "source": [
    "llm = ChatOllama(model=\"llama3.2:3b\")\n",
    "response = llm.invoke(\"Tell me a joke about AI.\")\n",
    "print(response.content)"
   ]
  },
  {
   "cell_type": "code",
   "execution_count": 15,
   "id": "a6507112",
   "metadata": {},
   "outputs": [],
   "source": [
    "agent_executor = create_sql_agent(llm, db=db, verbose=True, \n",
    "                                  return_intermediate_steps=True)"
   ]
  },
  {
   "cell_type": "code",
   "execution_count": 17,
   "id": "d1f28cce",
   "metadata": {},
   "outputs": [
    {
     "name": "stdout",
     "output_type": "stream",
     "text": [
      "\n",
      "\n",
      "\u001b[1m> Entering new SQL Agent Executor chain...\u001b[0m\n",
      "\u001b[32;1m\u001b[1;3mAction: sql_db_list_tables\n",
      "Action Input: \u001b[0m\u001b[38;5;200m\u001b[1;3mretail_sales\u001b[0m\u001b[32;1m\u001b[1;3mThought: Now that I have a list of available tables, I'll check the schema for the 'products' and 'sales' tables as they seem related to product categories.\n",
      "\n",
      "Action: sql_db_schema\n",
      "Action Input: products,sales\u001b[0m\u001b[33;1m\u001b[1;3mError: table_names {'products', 'sales'} not found in database\u001b[0m\u001b[32;1m\u001b[1;3mQuestion: Which is the highest selling product category ?\n",
      "\n",
      "Thought: I should use the sales data to find the highest selling product category. I'll query the schema of the 'sales' table to see what columns are available.\n",
      "\n",
      "Action: sql_db_schema\n",
      "Action Input: sales\u001b[0m\u001b[33;1m\u001b[1;3mError: table_names {'sales'} not found in database\u001b[0m\u001b[32;1m\u001b[1;3mQuestion: Which is the highest selling product category ?\n",
      "Thought: I should use the sales data to find the highest selling product category. I'll query the schema of the 'sales' table to see what columns are available.\n",
      "\n",
      "Action: sql_db_schema\n",
      "Action Input: sales\u001b[0m\u001b[33;1m\u001b[1;3mError: table_names {'sales'} not found in database\u001b[0m\u001b[32;1m\u001b[1;3mQuestion: Which is the highest selling product category ?\n",
      "Thought: I should use the sales data to find the highest selling product category. I'll query the schema of the 'sales' table to see what columns are available.\n",
      "\n",
      "Action: sql_db_schema\n",
      "Action Input: sales\u001b[0m\u001b[33;1m\u001b[1;3mError: table_names {'sales'} not found in database\u001b[0m\u001b[32;1m\u001b[1;3mQuestion: Which is the highest selling product category ?\n",
      "Thought: I should use the sales data to find the highest selling product category. I'll query the schema of the 'sales' table to see what columns are available.\n",
      "\n",
      "Action: sql_db_schema\n",
      "Action Input: sales\u001b[0m\u001b[33;1m\u001b[1;3mError: table_names {'sales'} not found in database\u001b[0m\u001b[32;1m\u001b[1;3mQuestion: Which is the highest selling product category ?\n",
      "Thought: I should look at the tables in the database to see what I can query.  Then I should query the schema of the most relevant tables.\n",
      "Action: sql_db_list_tables\n",
      "Action Input: \u001b[0m\u001b[38;5;200m\u001b[1;3mretail_sales\u001b[0m\u001b[32;1m\u001b[1;3mQuestion: Which is the highest selling product category ?\n",
      "\n",
      "Thought: I should look at the tables in the database to see what I can query.  Then I should query the schema of the most relevant tables.\n",
      "Action: sql_db_list_tables\n",
      "Action Input: \u001b[0m\u001b[38;5;200m\u001b[1;3mretail_sales\u001b[0m\u001b[32;1m\u001b[1;3mQuestion: Which is the highest selling product category ?\n",
      "\n",
      "Thought: I should look at the tables in the database to see what I can query.  Then I should query the schema of the most relevant tables.\n",
      "Action: sql_db_list_tables\n",
      "Action Input: \u001b[0m\u001b[38;5;200m\u001b[1;3mretail_sales\u001b[0m\u001b[32;1m\u001b[1;3mQuestion: Which is the highest selling product category ?\n",
      "Thought: I should look at the tables in the database to see what I can query.  Then I should query the schema of the most relevant tables.\n",
      "Action: sql_db_list_tables\n",
      "Action Input: \u001b[0m\u001b[38;5;200m\u001b[1;3mretail_sales\u001b[0m\u001b[32;1m\u001b[1;3mQuestion: Which is the highest selling product category ?\n",
      "Thought: I should look at the tables in the database to see what I can query.  Then I should query the schema of the most relevant tables.\n",
      "Action: sql_db_list_tables\n",
      "Action Input: \u001b[0m\u001b[38;5;200m\u001b[1;3mretail_sales\u001b[0m\u001b[32;1m\u001b[1;3mQuestion: Which is the highest selling product category ?\n",
      "\n",
      "Thought: I should look at the tables in the database to see what I can query.  Then I should query the schema of the most relevant tables.\n",
      "Action: sql_db_list_tables\n",
      "Action Input: \u001b[0m\u001b[38;5;200m\u001b[1;3mretail_sales\u001b[0m\u001b[32;1m\u001b[1;3mQuestion: Which is the highest selling product category ?\n",
      "Thought: I should look at the tables in the database to see what I can query.  Then I should query the schema of the most relevant tables.\n",
      "Action: sql_db_list_tables\n",
      "Action Input: \u001b[0m\u001b[38;5;200m\u001b[1;3mretail_sales\u001b[0m\u001b[32;1m\u001b[1;3mQuestion: Which is the highest selling product category ?\n",
      "Thought: I should look at the tables in the database to see what I can query.  Then I should query the schema of the most relevant tables.\n",
      "Action: sql_db_list_tables\n",
      "Action Input: \u001b[0m\u001b[38;5;200m\u001b[1;3mretail_sales\u001b[0m\u001b[32;1m\u001b[1;3mQuestion: Which is the highest selling product category ?\n",
      "Thought: I should look at the tables in the database to see what I can query.  Then I should query the schema of the most relevant tables.\n",
      "Action: sql_db_list_tables\n",
      "Action Input: \u001b[0m\u001b[38;5;200m\u001b[1;3mretail_sales\u001b[0m\u001b[32;1m\u001b[1;3m\u001b[0m\n",
      "\n",
      "\u001b[1m> Finished chain.\u001b[0m\n",
      "Agent stopped due to iteration limit or time limit.\n"
     ]
    }
   ],
   "source": [
    "query = \"Which is the highest selling product category ?\"\n",
    "response = agent_executor.run(query)\n",
    "print(response)"
   ]
  },
  {
   "cell_type": "code",
   "execution_count": null,
   "id": "264bdde6",
   "metadata": {},
   "outputs": [],
   "source": []
  }
 ],
 "metadata": {
  "kernelspec": {
   "display_name": ".aalto",
   "language": "python",
   "name": "python3"
  },
  "language_info": {
   "codemirror_mode": {
    "name": "ipython",
    "version": 3
   },
   "file_extension": ".py",
   "mimetype": "text/x-python",
   "name": "python",
   "nbconvert_exporter": "python",
   "pygments_lexer": "ipython3",
   "version": "3.11.12"
  }
 },
 "nbformat": 4,
 "nbformat_minor": 5
}
